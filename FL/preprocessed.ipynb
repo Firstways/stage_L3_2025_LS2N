{
 "cells": [
  {
   "cell_type": "code",
   "execution_count": 68,
   "id": "a7d261c1",
   "metadata": {},
   "outputs": [
    {
     "data": {
      "text/plain": [
       "(2219201, 63)"
      ]
     },
     "execution_count": 68,
     "metadata": {},
     "output_type": "execute_result"
    }
   ],
   "source": [
    "import pandas as pd\n",
    "\n",
    "\n",
    "df = pd.read_csv('edge/Edge-IIoTset dataset/Selected dataset for ML and DL/DNN-EdgeIIoT-dataset.csv', encoding='utf-8', low_memory=False)\n",
    "df.shape"
   ]
  },
  {
   "cell_type": "code",
   "execution_count": 69,
   "id": "fbd4beec",
   "metadata": {},
   "outputs": [
    {
     "data": {
      "text/plain": [
       "frame.time             object\n",
       "ip.src_host            object\n",
       "ip.dst_host            object\n",
       "arp.dst.proto_ipv4     object\n",
       "arp.opcode            float64\n",
       "                       ...   \n",
       "mbtcp.len             float64\n",
       "mbtcp.trans_id        float64\n",
       "mbtcp.unit_id         float64\n",
       "Attack_label            int64\n",
       "Attack_type            object\n",
       "Length: 63, dtype: object"
      ]
     },
     "execution_count": 69,
     "metadata": {},
     "output_type": "execute_result"
    }
   ],
   "source": [
    "df.dtypes"
   ]
  },
  {
   "cell_type": "code",
   "execution_count": 70,
   "id": "172a9ae0",
   "metadata": {},
   "outputs": [
    {
     "name": "stdout",
     "output_type": "stream",
     "text": [
      "Attack_type\n",
      "Normal                   1615643\n",
      "DDoS_UDP                  121568\n",
      "DDoS_ICMP                 116436\n",
      "SQL_injection              51203\n",
      "Password                   50153\n",
      "Vulnerability_scanner      50110\n",
      "DDoS_TCP                   50062\n",
      "DDoS_HTTP                  49911\n",
      "Uploading                  37634\n",
      "Backdoor                   24862\n",
      "Port_Scanning              22564\n",
      "XSS                        15915\n",
      "Ransomware                 10925\n",
      "MITM                        1214\n",
      "Fingerprinting              1001\n",
      "Name: count, dtype: int64\n"
     ]
    }
   ],
   "source": [
    "print(df['Attack_type'].value_counts())"
   ]
  },
  {
   "cell_type": "code",
   "execution_count": 71,
   "id": "6a8ce2c1",
   "metadata": {},
   "outputs": [],
   "source": [
    "drop_columns = [\"frame.time\", \"ip.src_host\", \"ip.dst_host\", \"arp.src.proto_ipv4\",\"arp.dst.proto_ipv4\", \n",
    "\n",
    "\n",
    "\n",
    "         \"http.file_data\",\"http.request.full_uri\",\"icmp.transmit_timestamp\",\n",
    "\n",
    "\n",
    "\n",
    "         \"http.request.uri.query\", \"tcp.options\",\"tcp.payload\",\"tcp.srcport\",\n",
    "\n",
    "\n",
    "\n",
    "         \"tcp.dstport\", \"udp.port\", \"mqtt.msg\"]\n",
    "\n",
    "\n",
    "df.drop(drop_columns, axis=1, inplace=True)"
   ]
  },
  {
   "cell_type": "code",
   "execution_count": 72,
   "id": "2041b354",
   "metadata": {},
   "outputs": [
    {
     "name": "stdout",
     "output_type": "stream",
     "text": [
      "0 rows with at least one NaN to remove\n",
      "arp.opcode                   0\n",
      "arp.hw.size                  0\n",
      "icmp.checksum                0\n",
      "icmp.seq_le                  0\n",
      "icmp.unused                  0\n",
      "http.content_length          0\n",
      "http.request.method          0\n",
      "http.referer                 0\n",
      "http.request.version         0\n",
      "http.response                0\n",
      "http.tls_port                0\n",
      "tcp.ack                      0\n",
      "tcp.ack_raw                  0\n",
      "tcp.checksum                 0\n",
      "tcp.connection.fin           0\n",
      "tcp.connection.rst           0\n",
      "tcp.connection.syn           0\n",
      "tcp.connection.synack        0\n",
      "tcp.flags                    0\n",
      "tcp.flags.ack                0\n",
      "tcp.len                      0\n",
      "tcp.seq                      0\n",
      "udp.stream                   0\n",
      "udp.time_delta               0\n",
      "dns.qry.name                 0\n",
      "dns.qry.name.len             0\n",
      "dns.qry.qu                   0\n",
      "dns.qry.type                 0\n",
      "dns.retransmission           0\n",
      "dns.retransmit_request       0\n",
      "dns.retransmit_request_in    0\n",
      "mqtt.conack.flags            0\n",
      "mqtt.conflag.cleansess       0\n",
      "mqtt.conflags                0\n",
      "mqtt.hdrflags                0\n",
      "mqtt.len                     0\n",
      "mqtt.msg_decoded_as          0\n",
      "mqtt.msgtype                 0\n",
      "mqtt.proto_len               0\n",
      "mqtt.protoname               0\n",
      "mqtt.topic                   0\n",
      "mqtt.topic_len               0\n",
      "mqtt.ver                     0\n",
      "mbtcp.len                    0\n",
      "mbtcp.trans_id               0\n",
      "mbtcp.unit_id                0\n",
      "Attack_label                 0\n",
      "Attack_type                  0\n",
      "dtype: int64\n"
     ]
    }
   ],
   "source": [
    "print(df.isna().any(axis=1).sum(), \"rows with at least one NaN to remove\")\n",
    "print(df.isna().sum().sort_values(ascending=False))\n",
    "df = df.dropna(axis=0, how='any')"
   ]
  },
  {
   "cell_type": "code",
   "execution_count": 73,
   "id": "201086a4",
   "metadata": {},
   "outputs": [
    {
     "name": "stdout",
     "output_type": "stream",
     "text": [
      "309530 fully duplicate rows to remove\n",
      "(2219201, 48)\n"
     ]
    },
    {
     "data": {
      "text/plain": [
       "(1909671, 48)"
      ]
     },
     "execution_count": 73,
     "metadata": {},
     "output_type": "execute_result"
    }
   ],
   "source": [
    "print(df.duplicated().sum(), \"fully duplicate rows to remove\")\n",
    "print(df.shape)\n",
    "df.drop_duplicates(subset=None, keep=\"first\", inplace=True)\n",
    "df.shape"
   ]
  },
  {
   "cell_type": "code",
   "execution_count": 74,
   "id": "c0c60205",
   "metadata": {},
   "outputs": [],
   "source": [
    "from fastai.tabular.all import df_shrink"
   ]
  },
  {
   "cell_type": "code",
   "execution_count": 75,
   "id": "96584d5b",
   "metadata": {},
   "outputs": [],
   "source": [
    "# print(df.info(memory_usage=\"deep\"))\n",
    "# df = df_shrink(df = df, obj2cat=False, int2uint=False)\n",
    "# df.info(memory_usage='deep')"
   ]
  },
  {
   "cell_type": "code",
   "execution_count": 76,
   "id": "6a57908a",
   "metadata": {},
   "outputs": [],
   "source": [
    "def encode_text_dummy(df, name):\n",
    "    dummies = pd.get_dummies(df[name])\n",
    "    for x in dummies.columns:\n",
    "        dummy_name = f\"{name}-{x}\"\n",
    "        df[dummy_name] = dummies[x]\n",
    "    df.drop(name, axis=1, inplace=True)"
   ]
  },
  {
   "cell_type": "code",
   "execution_count": null,
   "id": "9306d56b",
   "metadata": {},
   "outputs": [],
   "source": []
  },
  {
   "cell_type": "code",
   "execution_count": 77,
   "id": "8cc45b79",
   "metadata": {},
   "outputs": [],
   "source": [
    "encode_text_dummy(df,'http.request.method')\n",
    "encode_text_dummy(df,'http.referer')\n",
    "encode_text_dummy(df,\"http.request.version\")\n",
    "encode_text_dummy(df,\"dns.qry.name.len\")\n",
    "encode_text_dummy(df,\"mqtt.conack.flags\")\n",
    "encode_text_dummy(df,\"mqtt.protoname\")\n",
    "encode_text_dummy(df,\"mqtt.topic\")"
   ]
  },
  {
   "cell_type": "code",
   "execution_count": 78,
   "id": "7cf5eab1",
   "metadata": {},
   "outputs": [],
   "source": [
    "# df = df_shrink(df=df, obj2cat=False, int2uint=False)\n",
    "# df.info(memory_usage='deep')\n"
   ]
  },
  {
   "cell_type": "code",
   "execution_count": null,
   "id": "8ca19e8a",
   "metadata": {},
   "outputs": [],
   "source": []
  },
  {
   "cell_type": "code",
   "execution_count": 79,
   "id": "2b8db2a6",
   "metadata": {},
   "outputs": [
    {
     "name": "stdout",
     "output_type": "stream",
     "text": [
      "   arp.opcode  arp.hw.size  icmp.checksum  icmp.seq_le  icmp.unused  \\\n",
      "0         0.0          0.0            0.0          0.0          0.0   \n",
      "1         0.0          0.0            0.0          0.0          0.0   \n",
      "2         0.0          0.0            0.0          0.0          0.0   \n",
      "3         0.0          0.0            0.0          0.0          0.0   \n",
      "4         0.0          0.0            0.0          0.0          0.0   \n",
      "\n",
      "   http.content_length  http.response  http.tls_port       tcp.ack  \\\n",
      "0                  0.0            0.0            0.0  2.531948e-10   \n",
      "1                  0.0            0.0            0.0  2.531948e-10   \n",
      "2                  0.0            0.0            0.0  3.797922e-09   \n",
      "3                  0.0            0.0            0.0  3.797922e-09   \n",
      "4                  0.0            0.0            0.0  1.265974e-09   \n",
      "\n",
      "   tcp.ack_raw  ...  mqtt.conack.flags-1471198  mqtt.conack.flags-1471199  \\\n",
      "0     0.734199  ...                      False                      False   \n",
      "1     0.080279  ...                      False                      False   \n",
      "2     0.734199  ...                      False                      False   \n",
      "3     0.734199  ...                      False                      False   \n",
      "4     0.080279  ...                      False                      False   \n",
      "\n",
      "   mqtt.conack.flags-1574358  mqtt.conack.flags-1574359  mqtt.protoname-0  \\\n",
      "0                      False                      False              True   \n",
      "1                      False                      False             False   \n",
      "2                      False                      False              True   \n",
      "3                      False                      False              True   \n",
      "4                      False                      False              True   \n",
      "\n",
      "   mqtt.protoname-0.0  mqtt.protoname-MQTT  mqtt.topic-0  mqtt.topic-0.0  \\\n",
      "0               False                False          True           False   \n",
      "1               False                 True          True           False   \n",
      "2               False                False          True           False   \n",
      "3               False                False          True           False   \n",
      "4               False                False         False           False   \n",
      "\n",
      "   mqtt.topic-Temperature_and_Humidity  \n",
      "0                                False  \n",
      "1                                False  \n",
      "2                                False  \n",
      "3                                False  \n",
      "4                                 True  \n",
      "\n",
      "[5 rows x 97 columns]\n"
     ]
    },
    {
     "data": {
      "text/plain": [
       "(1909671, 97)"
      ]
     },
     "execution_count": 79,
     "metadata": {},
     "output_type": "execute_result"
    }
   ],
   "source": [
    "from sklearn.preprocessing import MinMaxScaler\n",
    "\n",
    "\n",
    "df.shape\n",
    "\n",
    "\n",
    "def normalize_data(df, types=['float64', 'int64']):\n",
    "    scaler = MinMaxScaler()\n",
    "    columns_to_normalize = df.select_dtypes(include=types).columns\n",
    "\n",
    "    for col in columns_to_normalize:\n",
    "        if not df[col].dropna().apply(lambda x: x in [0, 1]).all():\n",
    "            df[[col]] = scaler.fit_transform(df[[col]])  # <== le double crochets ici\n",
    "    print(df.head())\n",
    "\n",
    "normalize_data(df)\n",
    "df.shape\n"
   ]
  },
  {
   "cell_type": "code",
   "execution_count": 80,
   "id": "ed795024",
   "metadata": {},
   "outputs": [],
   "source": [
    "from sklearn.preprocessing import LabelEncoder\n",
    "label_encoder = LabelEncoder()\n",
    "encoded_labels = label_encoder.fit_transform(df[\"Attack_type\"])\n",
    "df[\"Attack_type\"]=encoded_labels\n",
    "\n",
    "df.to_csv('preprocessed_DNN-EdgeIIoT-dataset.csv')"
   ]
  },
  {
   "cell_type": "code",
   "execution_count": 81,
   "id": "ada175d6",
   "metadata": {},
   "outputs": [
    {
     "data": {
      "text/plain": [
       "<bound method NDFrame.head of          arp.opcode  arp.hw.size  icmp.checksum  icmp.seq_le  icmp.unused  \\\n",
       "0               0.0          0.0       0.000000     0.000000          0.0   \n",
       "1               0.0          0.0       0.000000     0.000000          0.0   \n",
       "2               0.0          0.0       0.000000     0.000000          0.0   \n",
       "3               0.0          0.0       0.000000     0.000000          0.0   \n",
       "4               0.0          0.0       0.000000     0.000000          0.0   \n",
       "...             ...          ...            ...          ...          ...   \n",
       "2219162         0.0          0.0       0.536356     0.668574          0.0   \n",
       "2219167         0.0          0.0       0.833214     0.675227          0.0   \n",
       "2219181         0.0          0.0       0.743305     0.691203          0.0   \n",
       "2219192         0.0          0.0       0.919079     0.694423          0.0   \n",
       "2219193         0.0          0.0       0.864389     0.694636          0.0   \n",
       "\n",
       "         http.content_length  http.response  http.tls_port       tcp.ack  \\\n",
       "0                        0.0            0.0            0.0  2.531948e-10   \n",
       "1                        0.0            0.0            0.0  2.531948e-10   \n",
       "2                        0.0            0.0            0.0  3.797922e-09   \n",
       "3                        0.0            0.0            0.0  3.797922e-09   \n",
       "4                        0.0            0.0            0.0  1.265974e-09   \n",
       "...                      ...            ...            ...           ...   \n",
       "2219162                  0.0            0.0            0.0  0.000000e+00   \n",
       "2219167                  0.0            0.0            0.0  0.000000e+00   \n",
       "2219181                  0.0            0.0            0.0  0.000000e+00   \n",
       "2219192                  0.0            0.0            0.0  0.000000e+00   \n",
       "2219193                  0.0            0.0            0.0  0.000000e+00   \n",
       "\n",
       "         tcp.ack_raw  ...  mqtt.conack.flags-1471198  \\\n",
       "0           0.734199  ...                      False   \n",
       "1           0.080279  ...                      False   \n",
       "2           0.734199  ...                      False   \n",
       "3           0.734199  ...                      False   \n",
       "4           0.080279  ...                      False   \n",
       "...              ...  ...                        ...   \n",
       "2219162     0.000000  ...                      False   \n",
       "2219167     0.000000  ...                      False   \n",
       "2219181     0.000000  ...                      False   \n",
       "2219192     0.000000  ...                      False   \n",
       "2219193     0.000000  ...                      False   \n",
       "\n",
       "         mqtt.conack.flags-1471199  mqtt.conack.flags-1574358  \\\n",
       "0                            False                      False   \n",
       "1                            False                      False   \n",
       "2                            False                      False   \n",
       "3                            False                      False   \n",
       "4                            False                      False   \n",
       "...                            ...                        ...   \n",
       "2219162                      False                      False   \n",
       "2219167                      False                      False   \n",
       "2219181                      False                      False   \n",
       "2219192                      False                      False   \n",
       "2219193                      False                      False   \n",
       "\n",
       "         mqtt.conack.flags-1574359  mqtt.protoname-0  mqtt.protoname-0.0  \\\n",
       "0                            False              True               False   \n",
       "1                            False             False               False   \n",
       "2                            False              True               False   \n",
       "3                            False              True               False   \n",
       "4                            False              True               False   \n",
       "...                            ...               ...                 ...   \n",
       "2219162                      False             False                True   \n",
       "2219167                      False             False                True   \n",
       "2219181                      False             False                True   \n",
       "2219192                      False             False                True   \n",
       "2219193                      False             False                True   \n",
       "\n",
       "         mqtt.protoname-MQTT  mqtt.topic-0  mqtt.topic-0.0  \\\n",
       "0                      False          True           False   \n",
       "1                       True          True           False   \n",
       "2                      False          True           False   \n",
       "3                      False          True           False   \n",
       "4                      False         False           False   \n",
       "...                      ...           ...             ...   \n",
       "2219162                False         False            True   \n",
       "2219167                False         False            True   \n",
       "2219181                False         False            True   \n",
       "2219192                False         False            True   \n",
       "2219193                False         False            True   \n",
       "\n",
       "         mqtt.topic-Temperature_and_Humidity  \n",
       "0                                      False  \n",
       "1                                      False  \n",
       "2                                      False  \n",
       "3                                      False  \n",
       "4                                       True  \n",
       "...                                      ...  \n",
       "2219162                                False  \n",
       "2219167                                False  \n",
       "2219181                                False  \n",
       "2219192                                False  \n",
       "2219193                                False  \n",
       "\n",
       "[1909671 rows x 97 columns]>"
      ]
     },
     "execution_count": 81,
     "metadata": {},
     "output_type": "execute_result"
    }
   ],
   "source": [
    "df.shape\n",
    "df.head"
   ]
  },
  {
   "cell_type": "code",
   "execution_count": 3,
   "id": "747e7452",
   "metadata": {},
   "outputs": [
    {
     "data": {
      "text/plain": [
       "0          0\n",
       "1          0\n",
       "2          0\n",
       "3          0\n",
       "4          0\n",
       "          ..\n",
       "1909666    1\n",
       "1909667    1\n",
       "1909668    1\n",
       "1909669    1\n",
       "1909670    1\n",
       "Name: Attack_label, Length: 1909671, dtype: int64"
      ]
     },
     "execution_count": 3,
     "metadata": {},
     "output_type": "execute_result"
    }
   ],
   "source": [
    "import pandas as pd\n",
    "my_df= pd.read_csv(\"preprocessed_DNN-EdgeIIoT-dataset.csv\")\n",
    "\n",
    "my_df[\"Attack_label\"]"
   ]
  },
  {
   "cell_type": "code",
   "execution_count": 5,
   "id": "ea1aee2b-047e-4198-bc3c-94d2dd3096c4",
   "metadata": {},
   "outputs": [
    {
     "name": "stdout",
     "output_type": "stream",
     "text": [
      "Attack_type\n",
      "7     1363998\n",
      "4      121567\n",
      "2       67939\n",
      "11      50826\n",
      "3       50062\n",
      "13      50026\n",
      "8       49933\n",
      "1       48544\n",
      "12      36807\n",
      "0       24026\n",
      "9       19977\n",
      "14      15066\n",
      "10       9689\n",
      "5         853\n",
      "6         358\n",
      "Name: count, dtype: int64\n"
     ]
    }
   ],
   "source": [
    "print(my_df['Attack_type'].value_counts())"
   ]
  },
  {
   "cell_type": "code",
   "execution_count": 8,
   "id": "e2524fa7-7b68-43cd-bc17-a474b5bafa1a",
   "metadata": {},
   "outputs": [
    {
     "name": "stdout",
     "output_type": "stream",
     "text": [
      "Attack_type\n",
      "7     954798\n",
      "4      85097\n",
      "2      47557\n",
      "11     35578\n",
      "3      35044\n",
      "13     35018\n",
      "8      34953\n",
      "1      33981\n",
      "12     25765\n",
      "0      16818\n",
      "9      13984\n",
      "14     10546\n",
      "10      6782\n",
      "5        597\n",
      "6        251\n",
      "Name: count, dtype: int64\n",
      "Attack_type\n",
      "7     409200\n",
      "4      36470\n",
      "2      20382\n",
      "11     15248\n",
      "3      15018\n",
      "13     15008\n",
      "8      14980\n",
      "1      14563\n",
      "12     11042\n",
      "0       7208\n",
      "9       5993\n",
      "14      4520\n",
      "10      2907\n",
      "5        256\n",
      "6        107\n",
      "Name: count, dtype: int64\n"
     ]
    }
   ],
   "source": [
    "my_df= pd.read_csv(\"splits/train.csv\")\n",
    "\n",
    "print(my_df['Attack_type'].value_counts())\n",
    "\n",
    "my_df= pd.read_csv(\"splits/mia.csv\")\n",
    "print(my_df['Attack_type'].value_counts())"
   ]
  }
 ],
 "metadata": {
  "kernelspec": {
   "display_name": "Python 3 (ipykernel)",
   "language": "python",
   "name": "python3"
  }
 },
 "nbformat": 4,
 "nbformat_minor": 5
}
